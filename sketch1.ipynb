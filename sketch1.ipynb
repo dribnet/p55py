{
 "cells": [
  {
   "cell_type": "markdown",
   "metadata": {
    "collapsed": false
   },
   "source": [
    "## Experimental interactive sketch"
   ]
  },
  {
   "cell_type": "markdown",
   "metadata": {},
   "source": [
    "#### Imports"
   ]
  },
  {
   "cell_type": "code",
   "execution_count": 1,
   "metadata": {
    "collapsed": false
   },
   "outputs": [],
   "source": [
    "from __future__ import print_function # For py 2.7 compat\n",
    "import ipywidgets as widgets\n",
    "from traitlets import Unicode\n",
    "from traitlets import CBytes\n",
    "from traitlets import CInt\n",
    "from traitlets import CBool\n",
    "import numpy as np"
   ]
  },
  {
   "cell_type": "markdown",
   "metadata": {
    "slideshow": {
     "slide_type": "slide"
    }
   },
   "source": [
    "#### Python side canvas widget"
   ]
  },
  {
   "cell_type": "code",
   "execution_count": 2,
   "metadata": {
    "collapsed": false
   },
   "outputs": [],
   "source": [
    "class P55CanvasWidget(widgets.DOMWidget):\n",
    "    _view_name = Unicode('P55CanvasView').tag(sync=True)\n",
    "    _view_module = Unicode('p55canvas').tag(sync=True)\n",
    "    value = CInt().tag(sync=True)\n",
    "    a = np.zeros([100,100,4], dtype='uint8') + 128\n",
    "    sidecar = CBytes(a.tobytes()).tag(sync=True)\n",
    "    mouse_x = CInt().tag(sync=True)\n",
    "    mouse_y = CInt().tag(sync=True)\n",
    "    mouse_down = CBool().tag(sync=True)    "
   ]
  },
  {
   "cell_type": "markdown",
   "metadata": {
    "slideshow": {
     "slide_type": "slide"
    }
   },
   "source": [
    "#### Javascript side"
   ]
  },
  {
   "cell_type": "code",
   "execution_count": 3,
   "metadata": {
    "collapsed": false
   },
   "outputs": [
    {
     "data": {
      "application/javascript": [
       "requirejs.undef('p55canvas');\n",
       "\n",
       "define('p55canvas', [\"jupyter-js-widgets\"], function(widgets) {\n",
       "    // we track all mouse movement and store into globals\n",
       "    var p55_mouse_x = 0;\n",
       "    var p55_mouse_y = 0;\n",
       "    var p55_mouse_is_down = false;\n",
       "\n",
       "    var callback_on_mouse_down = function(evt) {\n",
       "        p55_mouse_is_down = true;\n",
       "    };\n",
       "    \n",
       "    var callback_on_mouse_up = function(evt) {\n",
       "        p55_mouse_is_down = false;\n",
       "    };\n",
       "\n",
       "    function track_mouse_pos(evt) {\n",
       "        p55_mouse_x = evt.clientX;\n",
       "        p55_mouse_y = evt.clientY;\n",
       "    }\n",
       "\n",
       "    var P55CanvasView = widgets.DOMWidgetView.extend({\n",
       "        render: function() { \n",
       "            var that = this;\n",
       "            this.$canvas = $('<canvas width=\"100\" height=\"100\"></canvas>');\n",
       "            this.$el.append(this.$canvas);\n",
       "            this.value_changed();\n",
       "            this.model.on('change:value', this.value_changed, this);\n",
       "            this.$canvas[0].addEventListener('mousemove', track_mouse_pos, false);\n",
       "            this.$canvas[0].addEventListener('mousedown', callback_on_mouse_down, false);\n",
       "            this.$canvas[0].addEventListener('mouseup', callback_on_mouse_up, false);\n",
       "        },\n",
       "        \n",
       "        value_changed: function() {\n",
       "            // anytime the value is changed we do a full sync\n",
       "            var ctx = this.$canvas[0].getContext(\"2d\");\n",
       "            var buffer = this.model.get('sidecar').buffer\n",
       "            var arr = new Uint8ClampedArray(buffer);\n",
       "            var imdata = new ImageData(arr, 100, 100);\n",
       "            ctx.putImageData(imdata, 0, 0)\n",
       "            var rect = this.$canvas[0].getBoundingClientRect();\n",
       "            var local_x = Math.floor( p55_mouse_x - rect.left );\n",
       "            var local_y = Math.floor( p55_mouse_y - rect.top );\n",
       "            this.handle_mouse(local_x, local_y, p55_mouse_is_down);\n",
       "        },\n",
       "        \n",
       "        handle_mouse: function(x, y, is_down) {\n",
       "            this.model.set('mouse_x', x);\n",
       "            this.model.set('mouse_y', y);\n",
       "            this.model.set('mouse_down', is_down);\n",
       "            this.touch();\n",
       "        },\n",
       "        \n",
       "    });\n",
       "    \n",
       "    return {\n",
       "        P55CanvasView: P55CanvasView\n",
       "    };\n",
       "});"
      ],
      "text/plain": [
       "<IPython.core.display.Javascript object>"
      ]
     },
     "metadata": {},
     "output_type": "display_data"
    }
   ],
   "source": [
    "%%javascript\n",
    "requirejs.undef('p55canvas');\n",
    "\n",
    "define('p55canvas', [\"jupyter-js-widgets\"], function(widgets) {\n",
    "    // we track all mouse movement and store into globals\n",
    "    var p55_mouse_x = 0;\n",
    "    var p55_mouse_y = 0;\n",
    "    var p55_mouse_is_down = false;\n",
    "\n",
    "    var callback_on_mouse_down = function(evt) {\n",
    "        p55_mouse_is_down = true;\n",
    "    };\n",
    "    \n",
    "    var callback_on_mouse_up = function(evt) {\n",
    "        p55_mouse_is_down = false;\n",
    "    };\n",
    "\n",
    "    function track_mouse_pos(evt) {\n",
    "        p55_mouse_x = evt.clientX;\n",
    "        p55_mouse_y = evt.clientY;\n",
    "    }\n",
    "\n",
    "    var P55CanvasView = widgets.DOMWidgetView.extend({\n",
    "        render: function() { \n",
    "            var that = this;\n",
    "            this.$canvas = $('<canvas width=\"100\" height=\"100\"></canvas>');\n",
    "            this.$el.append(this.$canvas);\n",
    "            this.value_changed();\n",
    "            this.model.on('change:value', this.value_changed, this);\n",
    "            this.$canvas[0].addEventListener('mousemove', track_mouse_pos, false);\n",
    "            this.$canvas[0].addEventListener('mousedown', callback_on_mouse_down, false);\n",
    "            this.$canvas[0].addEventListener('mouseup', callback_on_mouse_up, false);\n",
    "        },\n",
    "        \n",
    "        value_changed: function() {\n",
    "            // anytime the value is changed we do a full sync\n",
    "            var ctx = this.$canvas[0].getContext(\"2d\");\n",
    "            var buffer = this.model.get('sidecar').buffer\n",
    "            var arr = new Uint8ClampedArray(buffer);\n",
    "            var imdata = new ImageData(arr, 100, 100);\n",
    "            ctx.putImageData(imdata, 0, 0)\n",
    "            var rect = this.$canvas[0].getBoundingClientRect();\n",
    "            var local_x = Math.floor( p55_mouse_x - rect.left );\n",
    "            var local_y = Math.floor( p55_mouse_y - rect.top );\n",
    "            this.handle_mouse(local_x, local_y, p55_mouse_is_down);\n",
    "        },\n",
    "        \n",
    "        handle_mouse: function(x, y, is_down) {\n",
    "            this.model.set('mouse_x', x);\n",
    "            this.model.set('mouse_y', y);\n",
    "            this.model.set('mouse_down', is_down);\n",
    "            this.touch();\n",
    "        },\n",
    "        \n",
    "    });\n",
    "    \n",
    "    return {\n",
    "        P55CanvasView: P55CanvasView\n",
    "    };\n",
    "});"
   ]
  },
  {
   "cell_type": "markdown",
   "metadata": {
    "slideshow": {
     "slide_type": "slide"
    }
   },
   "source": [
    "### Try it out"
   ]
  },
  {
   "cell_type": "code",
   "execution_count": 4,
   "metadata": {
    "collapsed": true
   },
   "outputs": [],
   "source": [
    "## OK, combine with PIL\n",
    "from PIL import Image, ImageDraw\n",
    "import numpy as np\n",
    "import IPython.display "
   ]
  },
  {
   "cell_type": "code",
   "execution_count": 5,
   "metadata": {
    "collapsed": false
   },
   "outputs": [
    {
     "data": {
      "application/vnd.jupyter.widget": "758ae920c6094337acc4bffce489bb48"
     },
     "metadata": {},
     "output_type": "display_data"
    }
   ],
   "source": [
    "widget = P55CanvasWidget()\n",
    "IPython.display.display(widget)"
   ]
  },
  {
   "cell_type": "code",
   "execution_count": 6,
   "metadata": {
    "collapsed": false
   },
   "outputs": [],
   "source": [
    "# draw into above canvas tracking mouse\n",
    "w, h = 100, 100\n",
    "\n",
    "widget.value = 0\n",
    "for n in range(1000):\n",
    "    # this is a hack to make the widget interactive while loop is processing\n",
    "    for x in range(100):\n",
    "        get_ipython().kernel.do_one_iteration()\n",
    "    x = widget.mouse_x\n",
    "    y = widget.mouse_y\n",
    "    is_down = widget.mouse_down\n",
    "    if is_down:\n",
    "        img = Image.new('RGBA', [w, h], color=(0,0,255,255))\n",
    "    else:\n",
    "        img = Image.new('RGBA', [w, h], color=(255,0,0,255))\n",
    "    draw = ImageDraw.Draw(img)\n",
    "    draw.line((0, 0) + (x, y), fill=0)\n",
    "    widget.sidecar = img.tobytes()\n",
    "    widget.mouse_x = widget.mouse_x\n",
    "    widget.mouse_y = widget.mouse_y\n",
    "    widget.value = widget.value + 1    "
   ]
  },
  {
   "cell_type": "code",
   "execution_count": null,
   "metadata": {
    "collapsed": true
   },
   "outputs": [],
   "source": []
  }
 ],
 "metadata": {
  "kernelspec": {
   "display_name": "Python 2",
   "language": "python",
   "name": "python2"
  },
  "language_info": {
   "codemirror_mode": {
    "name": "ipython",
    "version": 2
   },
   "file_extension": ".py",
   "mimetype": "text/x-python",
   "name": "python",
   "nbconvert_exporter": "python",
   "pygments_lexer": "ipython2",
   "version": "2.7.11"
  },
  "widgets": {
   "state": {
    "16750c9935794089a56df443a9781754": {
     "views": [
      {
       "cell_index": 9
      }
     ]
    }
   },
   "version": "2.0.0-dev"
  }
 },
 "nbformat": 4,
 "nbformat_minor": 1
}
