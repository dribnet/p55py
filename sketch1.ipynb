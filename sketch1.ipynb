{
 "cells": [
  {
   "cell_type": "markdown",
   "metadata": {
    "collapsed": false
   },
   "source": [
    "## Experimental interactive sketch"
   ]
  },
  {
   "cell_type": "markdown",
   "metadata": {},
   "source": [
    "#### Imports"
   ]
  },
  {
   "cell_type": "code",
   "execution_count": 1,
   "metadata": {
    "collapsed": false
   },
   "outputs": [],
   "source": [
    "from __future__ import print_function # For py 2.7 compat\n",
    "import ipywidgets as widgets\n",
    "from IPython.display import Javascript\n",
    "from traitlets import Unicode\n",
    "from traitlets import CBytes\n",
    "from traitlets import CInt\n",
    "from traitlets import CBool\n",
    "import numpy as np"
   ]
  },
  {
   "cell_type": "markdown",
   "metadata": {},
   "source": [
    "#### Globals"
   ]
  },
  {
   "cell_type": "code",
   "execution_count": 2,
   "metadata": {
    "collapsed": false
   },
   "outputs": [],
   "source": [
    "p55_globals = {\n",
    "    \"canvas_width\": 480,\n",
    "    \"canvas_height\": 120\n",
    "}"
   ]
  },
  {
   "cell_type": "code",
   "execution_count": 3,
   "metadata": {
    "collapsed": false
   },
   "outputs": [],
   "source": [
    "def update_javascript_globals():\n",
    "    ##### Copy globals to javascript\n",
    "    javascript_code = \"var p55_globals = {\\n\"\n",
    "\n",
    "    num_items = len(p55_globals)\n",
    "    for i, k in enumerate(p55_globals):\n",
    "        javascript_code += \"  \\\"{}\\\": {}\".format(k, p55_globals[k])\n",
    "        # the dreded comma\n",
    "        if i < num_items - 1:\n",
    "            javascript_code += \",\"\n",
    "        javascript_code += \"\\n\"\n",
    "    javascript_code += \"};\\n\"\n",
    "    javascript_code += \"window.p55_globals = p55_globals\\n\"\n",
    "    return javascript_code"
   ]
  },
  {
   "cell_type": "code",
   "execution_count": 4,
   "metadata": {
    "collapsed": false
   },
   "outputs": [
    {
     "name": "stdout",
     "output_type": "stream",
     "text": [
      "var p55_globals = {\n",
      "  \"canvas_width\": 480,\n",
      "  \"canvas_height\": 120\n",
      "};\n",
      "window.p55_globals = p55_globals\n",
      "\n"
     ]
    },
    {
     "data": {
      "application/javascript": [
       "var p55_globals = {\n",
       "  \"canvas_width\": 480,\n",
       "  \"canvas_height\": 120\n",
       "};\n",
       "window.p55_globals = p55_globals\n"
      ],
      "text/plain": [
       "<IPython.core.display.Javascript object>"
      ]
     },
     "execution_count": 4,
     "metadata": {},
     "output_type": "execute_result"
    }
   ],
   "source": [
    "##### Copy globals to javascript\n",
    "js_code = update_javascript_globals()\n",
    "print(js_code)\n",
    "# strangely, this cannot be called from within a python function (WTF)\n",
    "Javascript(js_code)"
   ]
  },
  {
   "cell_type": "code",
   "execution_count": 5,
   "metadata": {
    "collapsed": true
   },
   "outputs": [],
   "source": [
    "#### p55 drawing convenience methods\n",
    "class P55DrawContext():\n",
    "    drawContext = None\n",
    "    cur_fill = (0, 0, 0, 255)\n",
    "    cur_outline = (0, 0, 0, 255)\n",
    "    \n",
    "    def fill(self, c):\n",
    "        self.cur_fill = (c, c, c, 255)\n",
    "    \n",
    "    def ellipse(self, x1, y1, rx, ry):\n",
    "        if self.drawContext is None:\n",
    "            return\n",
    "        hrx = int(rx / 2)\n",
    "        hry = int(ry / 2)\n",
    "        self.drawContext.ellipse((x1-hrx, y1-hry, x1+hrx, y1+hry), self.cur_fill, self.cur_outline)\n",
    "\n",
    "    def line(self, x1, y1, x2, y2):\n",
    "        if self.drawContext is None:\n",
    "            return\n",
    "        self.drawContext.line((x1, y1, x2, y2), self.cur_fill)\n"
   ]
  },
  {
   "cell_type": "markdown",
   "metadata": {
    "slideshow": {
     "slide_type": "slide"
    }
   },
   "source": [
    "#### Python side canvas widget"
   ]
  },
  {
   "cell_type": "code",
   "execution_count": 6,
   "metadata": {
    "collapsed": false
   },
   "outputs": [],
   "source": [
    "class P55CanvasWidget(widgets.DOMWidget, P55DrawContext):\n",
    "    _view_name = Unicode('P55CanvasView').tag(sync=True)\n",
    "    _view_module = Unicode('p55canvas').tag(sync=True)\n",
    "    value = CInt().tag(sync=True)\n",
    "    temp_array = np.zeros([p55_globals[\"canvas_width\"],p55_globals[\"canvas_height\"],4], dtype='uint8') + 128\n",
    "    image_buffer = CBytes(temp_array.tobytes()).tag(sync=True)\n",
    "    mouseX = CInt().tag(sync=True)\n",
    "    mouseY = CInt().tag(sync=True)\n",
    "    mousePressed = CBool().tag(sync=True)    "
   ]
  },
  {
   "cell_type": "markdown",
   "metadata": {
    "slideshow": {
     "slide_type": "slide"
    }
   },
   "source": [
    "#### Javascript side"
   ]
  },
  {
   "cell_type": "code",
   "execution_count": 7,
   "metadata": {
    "collapsed": false
   },
   "outputs": [
    {
     "data": {
      "application/javascript": [
       "requirejs.undef('p55canvas');\n",
       "\n",
       "var p55_globals = window.p55_globals;\n",
       "\n",
       "define('p55canvas', [\"jupyter-js-widgets\"], function(widgets) {\n",
       "    // we track all mouse movement and store into globals\n",
       "    var p55_mouse_x = 0;\n",
       "    var p55_mouse_y = 0;\n",
       "    var p55_mouse_is_down = false;\n",
       "\n",
       "    var callback_on_mouse_down = function(evt) {\n",
       "        p55_mouse_is_down = true;\n",
       "    };\n",
       "    \n",
       "    var callback_on_mouse_up = function(evt) {\n",
       "        p55_mouse_is_down = false;\n",
       "    };\n",
       "\n",
       "    function track_mouse_pos(evt) {\n",
       "        p55_mouse_x = evt.clientX;\n",
       "        p55_mouse_y = evt.clientY;\n",
       "    }\n",
       "\n",
       "    var P55CanvasView = widgets.DOMWidgetView.extend({\n",
       "        render: function() { \n",
       "            var that = this;\n",
       "            var canvas_str = '<canvas width=\"' + p55_globals[\"canvas_width\"] + '\" height=\"' + p55_globals[\"canvas_height\"] + '\"></canvas>'\n",
       "            this.$canvas = $(canvas_str);\n",
       "            this.$el.append(this.$canvas);\n",
       "            this.value_changed();\n",
       "            this.model.on('change:value', this.value_changed, this);\n",
       "            this.$canvas[0].addEventListener('mousemove', track_mouse_pos, false);\n",
       "            this.$canvas[0].addEventListener('mousedown', callback_on_mouse_down, false);\n",
       "            this.$canvas[0].addEventListener('mouseup', callback_on_mouse_up, false);\n",
       "        },\n",
       "        \n",
       "        value_changed: function() {\n",
       "            // anytime the value is changed we do a full sync\n",
       "            var ctx = this.$canvas[0].getContext(\"2d\");\n",
       "            var buffer = this.model.get('image_buffer').buffer\n",
       "            var arr = new Uint8ClampedArray(buffer);\n",
       "            var imdata = new ImageData(arr, p55_globals[\"canvas_width\"], p55_globals[\"canvas_height\"]);\n",
       "            ctx.putImageData(imdata, 0, 0)\n",
       "            var rect = this.$canvas[0].getBoundingClientRect();\n",
       "            var local_x = Math.floor( p55_mouse_x - rect.left );\n",
       "            var local_y = Math.floor( p55_mouse_y - rect.top );\n",
       "            this.handle_mouse(local_x, local_y, p55_mouse_is_down);\n",
       "        },\n",
       "        \n",
       "        handle_mouse: function(x, y, is_down) {\n",
       "            this.model.set('mouseX', x);\n",
       "            this.model.set('mouseY', y);\n",
       "            this.model.set('mousePressed', is_down);\n",
       "            this.touch();\n",
       "        },\n",
       "        \n",
       "    });\n",
       "    \n",
       "    return {\n",
       "        P55CanvasView: P55CanvasView\n",
       "    };\n",
       "});"
      ],
      "text/plain": [
       "<IPython.core.display.Javascript object>"
      ]
     },
     "metadata": {},
     "output_type": "display_data"
    }
   ],
   "source": [
    "%%javascript\n",
    "requirejs.undef('p55canvas');\n",
    "\n",
    "var p55_globals = window.p55_globals;\n",
    "\n",
    "define('p55canvas', [\"jupyter-js-widgets\"], function(widgets) {\n",
    "    // we track all mouse movement and store into globals\n",
    "    var p55_mouse_x = 0;\n",
    "    var p55_mouse_y = 0;\n",
    "    var p55_mouse_is_down = false;\n",
    "\n",
    "    var callback_on_mouse_down = function(evt) {\n",
    "        p55_mouse_is_down = true;\n",
    "    };\n",
    "    \n",
    "    var callback_on_mouse_up = function(evt) {\n",
    "        p55_mouse_is_down = false;\n",
    "    };\n",
    "\n",
    "    function track_mouse_pos(evt) {\n",
    "        p55_mouse_x = evt.clientX;\n",
    "        p55_mouse_y = evt.clientY;\n",
    "    }\n",
    "\n",
    "    var P55CanvasView = widgets.DOMWidgetView.extend({\n",
    "        render: function() { \n",
    "            var that = this;\n",
    "            var canvas_str = '<canvas width=\"' + p55_globals[\"canvas_width\"] + '\" height=\"' + p55_globals[\"canvas_height\"] + '\"></canvas>'\n",
    "            this.$canvas = $(canvas_str);\n",
    "            this.$el.append(this.$canvas);\n",
    "            this.value_changed();\n",
    "            this.model.on('change:value', this.value_changed, this);\n",
    "            this.$canvas[0].addEventListener('mousemove', track_mouse_pos, false);\n",
    "            this.$canvas[0].addEventListener('mousedown', callback_on_mouse_down, false);\n",
    "            this.$canvas[0].addEventListener('mouseup', callback_on_mouse_up, false);\n",
    "        },\n",
    "        \n",
    "        value_changed: function() {\n",
    "            // anytime the value is changed we do a full sync\n",
    "            var ctx = this.$canvas[0].getContext(\"2d\");\n",
    "            var buffer = this.model.get('image_buffer').buffer\n",
    "            var arr = new Uint8ClampedArray(buffer);\n",
    "            var imdata = new ImageData(arr, p55_globals[\"canvas_width\"], p55_globals[\"canvas_height\"]);\n",
    "            ctx.putImageData(imdata, 0, 0)\n",
    "            var rect = this.$canvas[0].getBoundingClientRect();\n",
    "            var local_x = Math.floor( p55_mouse_x - rect.left );\n",
    "            var local_y = Math.floor( p55_mouse_y - rect.top );\n",
    "            this.handle_mouse(local_x, local_y, p55_mouse_is_down);\n",
    "        },\n",
    "        \n",
    "        handle_mouse: function(x, y, is_down) {\n",
    "            this.model.set('mouseX', x);\n",
    "            this.model.set('mouseY', y);\n",
    "            this.model.set('mousePressed', is_down);\n",
    "            this.touch();\n",
    "        },\n",
    "        \n",
    "    });\n",
    "    \n",
    "    return {\n",
    "        P55CanvasView: P55CanvasView\n",
    "    };\n",
    "});"
   ]
  },
  {
   "cell_type": "markdown",
   "metadata": {
    "slideshow": {
     "slide_type": "slide"
    }
   },
   "source": [
    "### Try it out"
   ]
  },
  {
   "cell_type": "code",
   "execution_count": 8,
   "metadata": {
    "collapsed": true
   },
   "outputs": [],
   "source": [
    "## OK, combine with PIL\n",
    "from PIL import Image, ImageDraw\n",
    "import numpy as np\n",
    "import IPython.display "
   ]
  },
  {
   "cell_type": "code",
   "execution_count": 9,
   "metadata": {
    "collapsed": false
   },
   "outputs": [],
   "source": [
    "def drawLine(widget, endpoints, fill):\n",
    "    widget.drawContext.line(endpoints, fill)\n",
    "\n",
    "def wrapped_draw(draw_func):\n",
    "    widget.value = 0\n",
    "    color = (0,0,0,255)\n",
    "    img = Image.new('RGBA', [p55_globals[\"canvas_width\"], p55_globals[\"canvas_height\"]], color=color)\n",
    "    widget.drawContext = ImageDraw.Draw(img)\n",
    "    for n in range(5000):\n",
    "        # this is a hack to make the widget interactive while loop is processing\n",
    "        for x in range(100):\n",
    "            get_ipython().kernel.do_one_iteration()\n",
    "        draw_func(widget)\n",
    "        widget.image_buffer = img.tobytes()\n",
    "        widget.value = widget.value + 1        "
   ]
  },
  {
   "cell_type": "code",
   "execution_count": 11,
   "metadata": {
    "collapsed": true
   },
   "outputs": [],
   "source": [
    "def draw1(self):\n",
    "    if not self.mousePressed:\n",
    "        color = (255,0,0,255)\n",
    "    else:\n",
    "        color = (0,0,255,255)\n",
    "    self.cur_fill = color\n",
    "    self.line(0, 0, self.mouseX, self.mouseY)"
   ]
  },
  {
   "cell_type": "code",
   "execution_count": 10,
   "metadata": {
    "collapsed": true
   },
   "outputs": [],
   "source": [
    "def draw(self):\n",
    "    if self.mousePressed:\n",
    "        self.fill(0)\n",
    "    else:\n",
    "        self.fill(255)\n",
    "    self.ellipse(self.mouseX, self.mouseY, 80, 80)"
   ]
  },
  {
   "cell_type": "code",
   "execution_count": 11,
   "metadata": {
    "collapsed": false
   },
   "outputs": [
    {
     "data": {
      "application/vnd.jupyter.widget": "59582bde1c1340bca766229ab2331d14"
     },
     "metadata": {},
     "output_type": "display_data"
    }
   ],
   "source": [
    "widget = P55CanvasWidget()\n",
    "IPython.display.display(widget)\n",
    "wrapped_draw(draw)"
   ]
  },
  {
   "cell_type": "code",
   "execution_count": null,
   "metadata": {
    "collapsed": true
   },
   "outputs": [],
   "source": []
  }
 ],
 "metadata": {
  "kernelspec": {
   "display_name": "Python 3",
   "language": "python",
   "name": "python3"
  },
  "language_info": {
   "codemirror_mode": {
    "name": "ipython",
    "version": 3
   },
   "file_extension": ".py",
   "mimetype": "text/x-python",
   "name": "python",
   "nbconvert_exporter": "python",
   "pygments_lexer": "ipython3",
   "version": "3.5.2"
  },
  "widgets": {
   "state": {
    "4a8cbd74b5274e5b9786814640b764ed": {
     "views": [
      {
       "cell_index": 17
      }
     ]
    }
   },
   "version": "2.0.0-dev"
  }
 },
 "nbformat": 4,
 "nbformat_minor": 1
}
