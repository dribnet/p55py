{
 "cells": [
  {
   "cell_type": "markdown",
   "metadata": {
    "collapsed": false
   },
   "source": [
    "## Experimental interactive sketch"
   ]
  },
  {
   "cell_type": "markdown",
   "metadata": {},
   "source": [
    "#### Imports"
   ]
  },
  {
   "cell_type": "code",
   "execution_count": 158,
   "metadata": {
    "collapsed": false
   },
   "outputs": [],
   "source": [
    "from __future__ import print_function # For py 2.7 compat\n",
    "import ipywidgets as widgets\n",
    "import IPython.display \n",
    "from IPython.display import Javascript, display\n",
    "from traitlets import Unicode\n",
    "from traitlets import CBytes\n",
    "from traitlets import CInt\n",
    "from traitlets import CBool\n",
    "import traitlets\n",
    "import numpy as np\n",
    "from PIL import Image, ImageDraw\n",
    "import numpy as np\n",
    "from ipywidgets import interact, interactive\n"
   ]
  },
  {
   "cell_type": "markdown",
   "metadata": {},
   "source": [
    "#### Globals"
   ]
  },
  {
   "cell_type": "code",
   "execution_count": 2,
   "metadata": {
    "collapsed": false
   },
   "outputs": [],
   "source": [
    "p55_globals = {\n",
    "    \"canvas_width\": 320,\n",
    "    \"canvas_height\": 320\n",
    "}"
   ]
  },
  {
   "cell_type": "code",
   "execution_count": 3,
   "metadata": {
    "collapsed": false
   },
   "outputs": [],
   "source": [
    "def update_javascript_globals():\n",
    "    ##### Copy globals to javascript\n",
    "    javascript_code = \"var p55_globals = {\\n\"\n",
    "\n",
    "    num_items = len(p55_globals)\n",
    "    for i, k in enumerate(p55_globals):\n",
    "        javascript_code += \"  \\\"{}\\\": {}\".format(k, p55_globals[k])\n",
    "        # the dreded comma\n",
    "        if i < num_items - 1:\n",
    "            javascript_code += \",\"\n",
    "        javascript_code += \"\\n\"\n",
    "    javascript_code += \"};\\n\"\n",
    "    javascript_code += \"window.p55_globals = p55_globals\\n\"\n",
    "    return javascript_code"
   ]
  },
  {
   "cell_type": "code",
   "execution_count": 4,
   "metadata": {
    "collapsed": false
   },
   "outputs": [
    {
     "name": "stdout",
     "output_type": "stream",
     "text": [
      "var p55_globals = {\n",
      "  \"canvas_width\": 320,\n",
      "  \"canvas_height\": 320\n",
      "};\n",
      "window.p55_globals = p55_globals\n",
      "\n"
     ]
    },
    {
     "data": {
      "application/javascript": [
       "var p55_globals = {\n",
       "  \"canvas_width\": 320,\n",
       "  \"canvas_height\": 320\n",
       "};\n",
       "window.p55_globals = p55_globals\n"
      ],
      "text/plain": [
       "<IPython.core.display.Javascript object>"
      ]
     },
     "execution_count": 4,
     "metadata": {},
     "output_type": "execute_result"
    }
   ],
   "source": [
    "##### Copy globals to javascript\n",
    "js_code = update_javascript_globals()\n",
    "print(js_code)\n",
    "# strangely, this cannot be called from within a python function (WTF)\n",
    "Javascript(js_code)"
   ]
  },
  {
   "cell_type": "code",
   "execution_count": 5,
   "metadata": {
    "collapsed": true
   },
   "outputs": [],
   "source": [
    "#### p55 drawing convenience methods\n",
    "class P55DrawContext():\n",
    "    drawContext = None\n",
    "    cur_fill = (0, 0, 0, 255)\n",
    "    cur_outline = (0, 0, 0, 255)\n",
    "    \n",
    "    def fill(self, c):\n",
    "        self.cur_fill = (c, c, c, 255)\n",
    "    \n",
    "    def ellipse(self, x1, y1, rx, ry):\n",
    "        if self.drawContext is None:\n",
    "            return\n",
    "        hrx = int(rx / 2)\n",
    "        hry = int(ry / 2)\n",
    "        self.drawContext.ellipse((x1-hrx, y1-hry, x1+hrx, y1+hry), self.cur_fill, self.cur_outline)\n",
    "\n",
    "    def rectangle(self, x1, y1, x2, y2):\n",
    "        if self.drawContext is None:\n",
    "            return\n",
    "        self.drawContext.rectangle([x1, y1, x2, y2], self.cur_fill, self.cur_outline)\n",
    "\n",
    "    def line(self, x1, y1, x2, y2):\n",
    "        if self.drawContext is None:\n",
    "            return\n",
    "        self.drawContext.line((x1, y1, x2, y2), self.cur_fill)\n"
   ]
  },
  {
   "cell_type": "markdown",
   "metadata": {
    "slideshow": {
     "slide_type": "slide"
    }
   },
   "source": [
    "#### Python side canvas widget"
   ]
  },
  {
   "cell_type": "code",
   "execution_count": 6,
   "metadata": {
    "collapsed": false
   },
   "outputs": [],
   "source": [
    "class P55CanvasWidget(widgets.DOMWidget, P55DrawContext):\n",
    "    _view_name = Unicode('P55CanvasView').tag(sync=True)\n",
    "    _view_module = Unicode('p55canvas').tag(sync=True)\n",
    "    value = CInt().tag(sync=True)\n",
    "    temp_array = np.zeros([p55_globals[\"canvas_width\"],p55_globals[\"canvas_height\"],4], dtype='uint8') + 128\n",
    "    image_buffer = CBytes(temp_array.tobytes()).tag(sync=True)\n",
    "    mouseX = CInt().tag(sync=True)\n",
    "    mouseY = CInt().tag(sync=True)\n",
    "    mousePressed = CBool().tag(sync=True)    "
   ]
  },
  {
   "cell_type": "markdown",
   "metadata": {
    "slideshow": {
     "slide_type": "slide"
    }
   },
   "source": [
    "#### Javascript side"
   ]
  },
  {
   "cell_type": "code",
   "execution_count": 7,
   "metadata": {
    "collapsed": false
   },
   "outputs": [
    {
     "data": {
      "application/javascript": [
       "requirejs.undef('p55canvas');\n",
       "\n",
       "var p55_globals = window.p55_globals;\n",
       "\n",
       "define('p55canvas', [\"jupyter-js-widgets\"], function(widgets) {\n",
       "    // we track all mouse movement and store into globals\n",
       "    var p55_mouse_x = 0;\n",
       "    var p55_mouse_y = 0;\n",
       "    var p55_mouse_is_down = false;\n",
       "\n",
       "    var callback_on_mouse_down = function(evt) {\n",
       "        p55_mouse_is_down = true;\n",
       "    };\n",
       "    \n",
       "    var callback_on_mouse_up = function(evt) {\n",
       "        p55_mouse_is_down = false;\n",
       "    };\n",
       "\n",
       "    function track_mouse_pos(evt) {\n",
       "        p55_mouse_x = evt.clientX;\n",
       "        p55_mouse_y = evt.clientY;\n",
       "    }\n",
       "\n",
       "    var P55CanvasView = widgets.DOMWidgetView.extend({\n",
       "        render: function() { \n",
       "            var that = this;\n",
       "            var canvas_str = '<canvas width=\"' + p55_globals[\"canvas_width\"] + '\" height=\"' + p55_globals[\"canvas_height\"] + '\"></canvas>'\n",
       "            this.$canvas = $(canvas_str);\n",
       "            this.$el.append(this.$canvas);\n",
       "            this.value_changed();\n",
       "            this.model.on('change:value', this.value_changed, this);\n",
       "            this.$canvas[0].addEventListener('mousemove', track_mouse_pos, false);\n",
       "            this.$canvas[0].addEventListener('mousedown', callback_on_mouse_down, false);\n",
       "            this.$canvas[0].addEventListener('mouseup', callback_on_mouse_up, false);\n",
       "        },\n",
       "        \n",
       "        value_changed: function() {\n",
       "            // anytime the value is changed we do a full sync\n",
       "            var ctx = this.$canvas[0].getContext(\"2d\");\n",
       "            var buffer = this.model.get('image_buffer').buffer\n",
       "            var arr = new Uint8ClampedArray(buffer);\n",
       "            var imdata = new ImageData(arr, p55_globals[\"canvas_width\"], p55_globals[\"canvas_height\"]);\n",
       "            ctx.putImageData(imdata, 0, 0)\n",
       "            var rect = this.$canvas[0].getBoundingClientRect();\n",
       "            var local_x = Math.floor( p55_mouse_x - rect.left );\n",
       "            var local_y = Math.floor( p55_mouse_y - rect.top );\n",
       "            this.handle_mouse(local_x, local_y, p55_mouse_is_down);\n",
       "        },\n",
       "        \n",
       "        handle_mouse: function(x, y, is_down) {\n",
       "            this.model.set('mouseX', x);\n",
       "            this.model.set('mouseY', y);\n",
       "            this.model.set('mousePressed', is_down);\n",
       "            this.touch();\n",
       "        },\n",
       "        \n",
       "    });\n",
       "    \n",
       "    return {\n",
       "        P55CanvasView: P55CanvasView\n",
       "    };\n",
       "});"
      ],
      "text/plain": [
       "<IPython.core.display.Javascript object>"
      ]
     },
     "metadata": {},
     "output_type": "display_data"
    }
   ],
   "source": [
    "%%javascript\n",
    "requirejs.undef('p55canvas');\n",
    "\n",
    "var p55_globals = window.p55_globals;\n",
    "\n",
    "define('p55canvas', [\"jupyter-js-widgets\"], function(widgets) {\n",
    "    // we track all mouse movement and store into globals\n",
    "    var p55_mouse_x = 0;\n",
    "    var p55_mouse_y = 0;\n",
    "    var p55_mouse_is_down = false;\n",
    "\n",
    "    var callback_on_mouse_down = function(evt) {\n",
    "        p55_mouse_is_down = true;\n",
    "    };\n",
    "    \n",
    "    var callback_on_mouse_up = function(evt) {\n",
    "        p55_mouse_is_down = false;\n",
    "    };\n",
    "\n",
    "    function track_mouse_pos(evt) {\n",
    "        p55_mouse_x = evt.clientX;\n",
    "        p55_mouse_y = evt.clientY;\n",
    "    }\n",
    "\n",
    "    var P55CanvasView = widgets.DOMWidgetView.extend({\n",
    "        render: function() { \n",
    "            var that = this;\n",
    "            var canvas_str = '<canvas width=\"' + p55_globals[\"canvas_width\"] + '\" height=\"' + p55_globals[\"canvas_height\"] + '\"></canvas>'\n",
    "            this.$canvas = $(canvas_str);\n",
    "            this.$el.append(this.$canvas);\n",
    "            this.value_changed();\n",
    "            this.model.on('change:value', this.value_changed, this);\n",
    "            this.$canvas[0].addEventListener('mousemove', track_mouse_pos, false);\n",
    "            this.$canvas[0].addEventListener('mousedown', callback_on_mouse_down, false);\n",
    "            this.$canvas[0].addEventListener('mouseup', callback_on_mouse_up, false);\n",
    "        },\n",
    "        \n",
    "        value_changed: function() {\n",
    "            // anytime the value is changed we do a full sync\n",
    "            var ctx = this.$canvas[0].getContext(\"2d\");\n",
    "            var buffer = this.model.get('image_buffer').buffer\n",
    "            var arr = new Uint8ClampedArray(buffer);\n",
    "            var imdata = new ImageData(arr, p55_globals[\"canvas_width\"], p55_globals[\"canvas_height\"]);\n",
    "            ctx.putImageData(imdata, 0, 0)\n",
    "            var rect = this.$canvas[0].getBoundingClientRect();\n",
    "            var local_x = Math.floor( p55_mouse_x - rect.left );\n",
    "            var local_y = Math.floor( p55_mouse_y - rect.top );\n",
    "            this.handle_mouse(local_x, local_y, p55_mouse_is_down);\n",
    "        },\n",
    "        \n",
    "        handle_mouse: function(x, y, is_down) {\n",
    "            this.model.set('mouseX', x);\n",
    "            this.model.set('mouseY', y);\n",
    "            this.model.set('mousePressed', is_down);\n",
    "            this.touch();\n",
    "        },\n",
    "        \n",
    "    });\n",
    "    \n",
    "    return {\n",
    "        P55CanvasView: P55CanvasView\n",
    "    };\n",
    "});"
   ]
  },
  {
   "cell_type": "markdown",
   "metadata": {
    "slideshow": {
     "slide_type": "slide"
    }
   },
   "source": [
    "### Try it out"
   ]
  },
  {
   "cell_type": "code",
   "execution_count": 175,
   "metadata": {
    "collapsed": false
   },
   "outputs": [],
   "source": [
    "def get_p55_play_observer(wrapper):\n",
    "    def play_observer(change):\n",
    "        backend_img = wrapper.backend_img\n",
    "        p55_widget = wrapper.p55_widget\n",
    "        value = change['new']\n",
    "        if value == 0:\n",
    "            wrapper.reset_widget();\n",
    "            backend_img = wrapper.backend_img\n",
    "        else:\n",
    "            wrapper.step_func(p55_widget)\n",
    "            if value % wrapper.redrawFreq == 0:\n",
    "                wrapper.render_func(p55_widget)\n",
    "            wrapper.draw_func(p55_widget)\n",
    "        p55_widget.image_buffer = backend_img.tobytes()\n",
    "    return play_observer\n",
    "\n",
    "def get_label_changer(wrapper):\n",
    "    def on_value_change(change):\n",
    "        wrapper.step_label.value = u\"{}\".format(change['new'])\n",
    "    return on_value_change\n",
    "\n",
    "def empty_function(wrapper):\n",
    "    pass\n",
    "\n",
    "class P55Wrapper():\n",
    "    def reset_widget(self):\n",
    "        color = (0,0,0,255)\n",
    "        self.backend_img = Image.new('RGBA', [p55_globals[\"canvas_width\"], p55_globals[\"canvas_height\"]], color=color)\n",
    "        self.p55_widget.drawContext = ImageDraw.Draw(self.backend_img)\n",
    "        self.setup_func(self.p55_widget)\n",
    "        \n",
    "    def __init__(self, setupfn=empty_function, drawfn=empty_function, stepfn=empty_function, renderfn=empty_function):\n",
    "        self.setup_func = setupfn\n",
    "        self.draw_func = drawfn\n",
    "        self.step_func = stepfn\n",
    "        self.render_func = renderfn\n",
    "        self.redrawFreq = 1\n",
    "\n",
    "        self.play = widgets.Play()\n",
    "        self.p55_widget = P55CanvasWidget()\n",
    "        self.p55_widget.value = 0\n",
    "        self.reset_widget();\n",
    "        self.step_label = widgets.Label(u\"0\", description='step');\n",
    "\n",
    "        play_observer = get_p55_play_observer(self)\n",
    "        self.p55_widget.observe(play_observer, names='value')\n",
    "        traitlets.link((self.play, 'value'), (self.p55_widget, 'value'))\n",
    "        label_observer = get_label_changer(self)\n",
    "        self.p55_widget.observe(label_observer, names='value')\n",
    "        \n",
    "#         traitlets.link((self.play, 'value'), (self.step_label, 'value'))\n",
    "\n",
    "        self.play_row = widgets.HBox([self.play, self.step_label])\n",
    "        self.display_pane = widgets.VBox([self.p55_widget, self.play_row])\n",
    "        self.settings_pane = None\n",
    "        self.radius = 120\n",
    "        self.widget = widgets.HBox([self.display_pane])\n",
    "    \n",
    "    def addSettingsPane(self, settings_pane):\n",
    "        self.settings_pane = settings_pane\n",
    "        self.widget = widgets.HBox([self.display_pane, settings_pane])   \n",
    "        "
   ]
  },
  {
   "cell_type": "code",
   "execution_count": 157,
   "metadata": {
    "collapsed": false
   },
   "outputs": [
    {
     "data": {
      "application/vnd.jupyter.widget": "c1a44f95438e4e89bcd05d66460037c3"
     },
     "metadata": {},
     "output_type": "display_data"
    }
   ],
   "source": [
    "def draw(self):\n",
    "    if self.mousePressed:\n",
    "        self.fill(0)\n",
    "    else:\n",
    "        self.fill(255)\n",
    "    self.ellipse(self.mouseX, self.mouseY, 80, 80)\n",
    "\n",
    "wrapper = P55Wrapper(drawfn=draw)\n",
    "display(wrapper.widget)"
   ]
  },
  {
   "cell_type": "code",
   "execution_count": 156,
   "metadata": {
    "collapsed": false
   },
   "outputs": [
    {
     "data": {
      "text/plain": [
       "(89, '#445dff')"
      ]
     },
     "metadata": {},
     "output_type": "display_data"
    }
   ],
   "source": [
    "def wrapped_widgets(wrapper):\n",
    "    def settings_updated(radius, color):\n",
    "        if radius < 0:\n",
    "            radius = 0\n",
    "        wrapper.p55_widget.radius = radius\n",
    "        t = webcolors.html5_parse_legacy_color(color)\n",
    "        wrapper.p55_widget.color = (t[0], t[1], t[2], 255)\n",
    "        return radius, color\n",
    "    return settings_updated\n",
    "\n",
    "def draw(self):\n",
    "    self.fill(128)\n",
    "    if self.mousePressed:\n",
    "        self.fill(0)\n",
    "    else:\n",
    "        self.cur_fill = self.color\n",
    "    self.ellipse(self.mouseX, self.mouseY, self.radius, self.radius)\n",
    "\n",
    "wrapper = P55Wrapper(drawfn=draw)\n",
    "settings_callback = wrapped_widgets(wrapper)\n",
    "cp = widgets.ColorPicker()\n",
    "cp.value = \"white\"\n",
    "w = interactive(settings_callback, radius=80, color=cp)\n",
    "wrapper.addSettingsPane(w)\n",
    "wrapper.play.max = 1000\n",
    "display(wrapper.widget)\n"
   ]
  },
  {
   "cell_type": "code",
   "execution_count": 10,
   "metadata": {
    "collapsed": false
   },
   "outputs": [
    {
     "data": {
      "application/vnd.jupyter.widget": "d6e7164ff8c54957ab1aa0b146111b7f"
     },
     "metadata": {},
     "output_type": "display_data"
    }
   ],
   "source": [
    "def draw1(self):\n",
    "    if not self.mousePressed:\n",
    "        color = (255,0,0,255)\n",
    "    else:\n",
    "        color = (0,0,255,255)\n",
    "    self.cur_fill = color\n",
    "    self.line(0, 0, self.mouseX, self.mouseY)\n",
    "\n",
    "wrapper = P55Wrapper(draw1)\n",
    "display(wrapper.widget)    "
   ]
  },
  {
   "cell_type": "code",
   "execution_count": 185,
   "metadata": {
    "collapsed": true
   },
   "outputs": [],
   "source": [
    "BACK = (255,255,255,255)\n",
    "FRONT = (0, 0, 0, 255)\n",
    "LIGHT = (0, 100, 0, 255)\n",
    "CYAN = (0, 100, 100, 255)\n",
    "BLUE = (0, 0, 200, 255)\n",
    "RED = (128, 0, 0, 255)\n",
    "\n",
    "FRONTCOLORS = [FRONT, LIGHT, CYAN, BLUE, RED]"
   ]
  },
  {
   "cell_type": "code",
   "execution_count": 186,
   "metadata": {
    "collapsed": true
   },
   "outputs": [],
   "source": [
    "NMAX = 10**6\n",
    "SIZE = 200\n",
    "ONE = 1.5/SIZE\n",
    "LINEWIDTH = ONE*1.1\n",
    "\n",
    "INIT_NUM = 4\n",
    "\n",
    "STP = ONE*3\n",
    "\n",
    "ANGLE_STP = 0.5\n",
    "ANGLE_LOCAL_STP = 0.8"
   ]
  },
  {
   "cell_type": "code",
   "execution_count": 202,
   "metadata": {
    "collapsed": true
   },
   "outputs": [],
   "source": [
    "from modules.wind import Wind\n",
    "\n",
    "def setup_wind(self):\n",
    "    global ANGLE_STP, ANGLE_LOCAL_STP\n",
    "    self.wind = Wind(NMAX, SIZE, STP, ANGLE_STP, ANGLE_LOCAL_STP)\n",
    "    self.wind.rnd_seed(INIT_NUM)\n",
    "\n",
    "def step_wind(self):\n",
    "    res = self.wind.step()\n",
    "\n",
    "def render_wind(self):\n",
    "    self.fill(225)\n",
    "    self.cur_outline = self.cur_fill\n",
    "    self.rectangle(0,0,320,320)\n",
    "    self.fill(0)\n",
    "\n",
    "    xy = self.wind.xy\n",
    "    n = self.wind.n\n",
    "    r = self.wind.r\n",
    "\n",
    "    for i,x in enumerate(xy[:n,:]):\n",
    "        self.cur_fill = FRONTCOLORS[r[i]]\n",
    "        self.cur_outline = FRONTCOLORS[r[i]]\n",
    "        self.ellipse(int(320*x[0]), int(320*x[1]), 2, 2)\n",
    "\n",
    "    for i,p in enumerate(self.wind.p[:n]):\n",
    "        if p>-1:\n",
    "            self.cur_fill = FRONTCOLORS[r[i]]\n",
    "            self.cur_outline = FRONTCOLORS[r[i]]\n",
    "            source = 320 * xy[p,:].flatten()\n",
    "            dest = 320 * xy[i,:].flatten()\n",
    "            self.line(source[0], source[1], dest[0], dest[1])\n"
   ]
  },
  {
   "cell_type": "code",
   "execution_count": 189,
   "metadata": {
    "collapsed": false
   },
   "outputs": [
    {
     "data": {
      "application/vnd.jupyter.widget": "12b1650b161446fd82de053f1fa0d213"
     },
     "metadata": {},
     "output_type": "display_data"
    }
   ],
   "source": [
    "wrapper = P55Wrapper(setupfn=setup_wind, stepfn=step_wind, renderfn=render_wind)\n",
    "wrapper.play.max = 1000\n",
    "wrapper.redrawFreq = 5\n",
    "display(wrapper.widget)"
   ]
  },
  {
   "cell_type": "code",
   "execution_count": 209,
   "metadata": {
    "collapsed": false
   },
   "outputs": [],
   "source": [
    "def wrapped_wind_settings(wrapper):\n",
    "    def settings_updated(drawFreq, ASTP, ALOCAL, color):\n",
    "        global FRONTCOLORS\n",
    "        global ANGLE_STP\n",
    "        global ANGLE_LOCAL_STP\n",
    "        wrapper.redrawFreq = drawFreq\n",
    "        ANGLE_STP = ASTP\n",
    "        ANGLE_LOCAL_STP = ALOCAL\n",
    "        t = webcolors.html5_parse_legacy_color(color)\n",
    "        FRONTCOLORS[0] = (t[0], t[1], t[2], 255)\n",
    "        return None\n",
    "    return settings_updated"
   ]
  },
  {
   "cell_type": "code",
   "execution_count": 210,
   "metadata": {
    "collapsed": false
   },
   "outputs": [],
   "source": [
    "wrapper = P55Wrapper(setupfn=setup_wind, stepfn=step_wind, renderfn=render_wind)\n",
    "settings_callback = wrapped_wind_settings(wrapper)\n",
    "cp = widgets.ColorPicker()\n",
    "rw = widgets.IntSlider(value=1,min=1,max=20)\n",
    "asw = widgets.FloatSlider(value=0.5,min=0,max=2)\n",
    "alsw = widgets.FloatSlider(value=0.8,min=0,max=2)\n",
    "w = interactive(settings_callback, drawFreq=rw, ASTP=asw, ALOCAL=alsw, color=cp)\n",
    "wrapper.addSettingsPane(w)\n",
    "wrapper.play.max = 1000\n",
    "wrapper.redrawFreq = 5\n",
    "display(wrapper.widget)\n"
   ]
  },
  {
   "cell_type": "code",
   "execution_count": null,
   "metadata": {
    "collapsed": true
   },
   "outputs": [],
   "source": []
  }
 ],
 "metadata": {
  "kernelspec": {
   "display_name": "Python 3",
   "language": "python",
   "name": "python3"
  },
  "language_info": {
   "codemirror_mode": {
    "name": "ipython",
    "version": 3
   },
   "file_extension": ".py",
   "mimetype": "text/x-python",
   "name": "python",
   "nbconvert_exporter": "python",
   "pygments_lexer": "ipython3",
   "version": "3.5.2"
  },
  "widgets": {
   "state": {
    "0b83b27402624236a03738ea2e6a60bd": {
     "views": [
      {
       "cell_index": 14
      }
     ]
    },
    "19ea395f0a8449f4b2d2515807dcc7d3": {
     "views": [
      {
       "cell_index": 15
      }
     ]
    },
    "4d4c5351dd754622ad20503eb24cb322": {
     "views": [
      {
       "cell_index": 15
      }
     ]
    },
    "60be6c7240eb4c0fabe86635ac117c73": {
     "views": [
      {
       "cell_index": 15
      }
     ]
    },
    "764b8c770b60406a8e04aa4b0e600a6c": {
     "views": [
      {
       "cell_index": 15
      }
     ]
    },
    "781271167b004350ab2f8d8b94ec3d5a": {
     "views": [
      {
       "cell_index": 15
      }
     ]
    },
    "944e6dbf3ea84e60bca217a441d39557": {
     "views": [
      {
       "cell_index": 15
      }
     ]
    },
    "b3327d93840442dfb748f88b4afaa8a0": {
     "views": [
      {
       "cell_index": 15
      }
     ]
    },
    "b42830858318454d9871f8af1ffefa95": {
     "views": [
      {
       "cell_index": 15
      }
     ]
    },
    "b7c6297237bd448dbf971b858b9bf0f8": {
     "views": [
      {
       "cell_index": 15
      }
     ]
    },
    "d6e7164ff8c54957ab1aa0b146111b7f": {
     "views": [
      {
       "cell_index": 15
      }
     ]
    },
    "d9a28c0245c147faa91ec47dc973f236": {
     "views": [
      {
       "cell_index": 15
      }
     ]
    },
    "ddc9567543d84835bc75238ad72dad14": {
     "views": [
      {
       "cell_index": 20
      }
     ]
    },
    "e0036c6533a242b89d3162d64e48dfa2": {
     "views": [
      {
       "cell_index": 22
      }
     ]
    },
    "fdeac277bc574f889879d08fb2e09358": {
     "views": [
      {
       "cell_index": 15
      }
     ]
    },
    "feb104db2cf14d899cedf093f075962f": {
     "views": [
      {
       "cell_index": 15
      }
     ]
    }
   },
   "version": "2.0.0-dev"
  }
 },
 "nbformat": 4,
 "nbformat_minor": 1
}
