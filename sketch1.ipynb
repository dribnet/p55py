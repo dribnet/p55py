{
 "cells": [
  {
   "cell_type": "markdown",
   "metadata": {
    "collapsed": false
   },
   "source": [
    "## Experimental interactive sketch"
   ]
  },
  {
   "cell_type": "markdown",
   "metadata": {},
   "source": [
    "#### Imports"
   ]
  },
  {
   "cell_type": "code",
   "execution_count": 1,
   "metadata": {
    "collapsed": false
   },
   "outputs": [],
   "source": [
    "from __future__ import print_function # For py 2.7 compat\n",
    "import ipywidgets as widgets\n",
    "import IPython.display \n",
    "from IPython.display import Javascript, display\n",
    "from traitlets import Unicode\n",
    "from traitlets import CBytes\n",
    "from traitlets import CInt\n",
    "from traitlets import CBool\n",
    "import traitlets\n",
    "import numpy as np\n",
    "from PIL import Image, ImageDraw\n",
    "import numpy as np\n",
    "from ipywidgets import interact, interactive\n",
    "import webcolors"
   ]
  },
  {
   "cell_type": "code",
   "execution_count": 2,
   "metadata": {
    "collapsed": true
   },
   "outputs": [],
   "source": [
    "#### p55 drawing convenience methods\n",
    "class P55DrawContext():\n",
    "    drawContext = None\n",
    "    cur_fill = (0, 0, 0, 255)\n",
    "    cur_outline = (0, 0, 0, 255)\n",
    "    \n",
    "    def fill(self, c):\n",
    "        self.cur_fill = (c, c, c, 255)\n",
    "    \n",
    "    def ellipse(self, x1, y1, rx, ry):\n",
    "        if self.drawContext is None:\n",
    "            return\n",
    "        hrx = int(rx / 2)\n",
    "        hry = int(ry / 2)\n",
    "        self.drawContext.ellipse((x1-hrx, y1-hry, x1+hrx, y1+hry), self.cur_fill, self.cur_outline)\n",
    "\n",
    "    def rectangle(self, x1, y1, x2, y2):\n",
    "        if self.drawContext is None:\n",
    "            return\n",
    "        self.drawContext.rectangle([x1, y1, x2, y2], self.cur_fill, self.cur_outline)\n",
    "\n",
    "    def line(self, x1, y1, x2, y2):\n",
    "        if self.drawContext is None:\n",
    "            return\n",
    "        self.drawContext.line((x1, y1, x2, y2), self.cur_fill)\n"
   ]
  },
  {
   "cell_type": "markdown",
   "metadata": {
    "slideshow": {
     "slide_type": "slide"
    }
   },
   "source": [
    "#### Python side canvas widget"
   ]
  },
  {
   "cell_type": "code",
   "execution_count": 3,
   "metadata": {
    "collapsed": false
   },
   "outputs": [],
   "source": [
    "class P55CanvasWidget(widgets.DOMWidget, P55DrawContext):\n",
    "    _view_name = Unicode('P55CanvasView').tag(sync=True)\n",
    "    _view_module = Unicode('p55canvas').tag(sync=True)\n",
    "    value = CInt().tag(sync=True)\n",
    "    canvas_width = CInt(320).tag(sync=True)\n",
    "    canvas_height = CInt(320).tag(sync=True)\n",
    "    temp_array = np.zeros([320,320,4], dtype='uint8') + 128\n",
    "    image_buffer = CBytes(temp_array.tobytes()).tag(sync=True)\n",
    "    mouseX = CInt().tag(sync=True)\n",
    "    mouseY = CInt().tag(sync=True)\n",
    "    mousePressed = CBool().tag(sync=True)"
   ]
  },
  {
   "cell_type": "markdown",
   "metadata": {
    "slideshow": {
     "slide_type": "slide"
    }
   },
   "source": [
    "#### Javascript side"
   ]
  },
  {
   "cell_type": "code",
   "execution_count": 4,
   "metadata": {
    "collapsed": false
   },
   "outputs": [
    {
     "data": {
      "application/javascript": [
       "requirejs.undef('p55canvas');\n",
       "\n",
       "var p55_globals = window.p55_globals;\n",
       "\n",
       "define('p55canvas', [\"jupyter-js-widgets\"], function(widgets) {\n",
       "    // we track all mouse movement and store into globals\n",
       "    var p55_mouse_x = 0;\n",
       "    var p55_mouse_y = 0;\n",
       "    var p55_mouse_is_down = false;\n",
       "\n",
       "    var callback_on_mouse_down = function(evt) {\n",
       "        p55_mouse_is_down = true;\n",
       "    };\n",
       "    \n",
       "    var callback_on_mouse_up = function(evt) {\n",
       "        p55_mouse_is_down = false;\n",
       "    };\n",
       "\n",
       "    function track_mouse_pos(evt) {\n",
       "        p55_mouse_x = evt.clientX;\n",
       "        p55_mouse_y = evt.clientY;\n",
       "    }\n",
       "\n",
       "    var P55CanvasView = widgets.DOMWidgetView.extend({\n",
       "        render: function() { \n",
       "            var that = this;\n",
       "            var canvas_width = this.model.get('canvas_width');\n",
       "            var canvas_height = this.model.get('canvas_height');\n",
       "            var canvas_str = '<canvas width=\"' + canvas_width + '\" height=\"' + canvas_height + '\"></canvas>'\n",
       "            this.$canvas = $(canvas_str);\n",
       "            this.$el.append(this.$canvas);\n",
       "            this.value_changed();\n",
       "            this.model.on('change:value', this.value_changed, this);\n",
       "            this.$canvas[0].addEventListener('mousemove', track_mouse_pos, false);\n",
       "            this.$canvas[0].addEventListener('mousedown', callback_on_mouse_down, false);\n",
       "            this.$canvas[0].addEventListener('mouseup', callback_on_mouse_up, false);\n",
       "        },\n",
       "        \n",
       "        value_changed: function() {\n",
       "            // anytime the value is changed we do a full sync\n",
       "            var canvas_width = this.model.get('canvas_width');\n",
       "            var canvas_height = this.model.get('canvas_height');\n",
       "            this.$canvas[0].width = canvas_width\n",
       "            this.$canvas[0].height = canvas_height\n",
       "            var ctx = this.$canvas[0].getContext(\"2d\");\n",
       "            var buffer = this.model.get('image_buffer').buffer\n",
       "            var arr = new Uint8ClampedArray(buffer);\n",
       "            var imdata = new ImageData(arr, canvas_width, canvas_height);\n",
       "            ctx.putImageData(imdata, 0, 0)\n",
       "            var rect = this.$canvas[0].getBoundingClientRect();\n",
       "            var local_x = Math.floor( p55_mouse_x - rect.left );\n",
       "            var local_y = Math.floor( p55_mouse_y - rect.top );\n",
       "            this.handle_mouse(local_x, local_y, p55_mouse_is_down);\n",
       "        },\n",
       "        \n",
       "        handle_mouse: function(x, y, is_down) {\n",
       "            this.model.set('mouseX', x);\n",
       "            this.model.set('mouseY', y);\n",
       "            this.model.set('mousePressed', is_down);\n",
       "            this.touch();\n",
       "        },\n",
       "        \n",
       "    });\n",
       "    \n",
       "    return {\n",
       "        P55CanvasView: P55CanvasView\n",
       "    };\n",
       "});"
      ],
      "text/plain": [
       "<IPython.core.display.Javascript object>"
      ]
     },
     "metadata": {},
     "output_type": "display_data"
    }
   ],
   "source": [
    "%%javascript\n",
    "requirejs.undef('p55canvas');\n",
    "\n",
    "var p55_globals = window.p55_globals;\n",
    "\n",
    "define('p55canvas', [\"jupyter-js-widgets\"], function(widgets) {\n",
    "    // we track all mouse movement and store into globals\n",
    "    var p55_mouse_x = 0;\n",
    "    var p55_mouse_y = 0;\n",
    "    var p55_mouse_is_down = false;\n",
    "\n",
    "    var callback_on_mouse_down = function(evt) {\n",
    "        p55_mouse_is_down = true;\n",
    "    };\n",
    "    \n",
    "    var callback_on_mouse_up = function(evt) {\n",
    "        p55_mouse_is_down = false;\n",
    "    };\n",
    "\n",
    "    function track_mouse_pos(evt) {\n",
    "        p55_mouse_x = evt.clientX;\n",
    "        p55_mouse_y = evt.clientY;\n",
    "    }\n",
    "\n",
    "    var P55CanvasView = widgets.DOMWidgetView.extend({\n",
    "        render: function() { \n",
    "            var that = this;\n",
    "            var canvas_width = this.model.get('canvas_width');\n",
    "            var canvas_height = this.model.get('canvas_height');\n",
    "            var canvas_str = '<canvas width=\"' + canvas_width + '\" height=\"' + canvas_height + '\"></canvas>'\n",
    "            this.$canvas = $(canvas_str);\n",
    "            this.$el.append(this.$canvas);\n",
    "            this.value_changed();\n",
    "            this.model.on('change:value', this.value_changed, this);\n",
    "            this.$canvas[0].addEventListener('mousemove', track_mouse_pos, false);\n",
    "            this.$canvas[0].addEventListener('mousedown', callback_on_mouse_down, false);\n",
    "            this.$canvas[0].addEventListener('mouseup', callback_on_mouse_up, false);\n",
    "        },\n",
    "        \n",
    "        value_changed: function() {\n",
    "            // anytime the value is changed we do a full sync\n",
    "            var canvas_width = this.model.get('canvas_width');\n",
    "            var canvas_height = this.model.get('canvas_height');\n",
    "            this.$canvas[0].width = canvas_width\n",
    "            this.$canvas[0].height = canvas_height\n",
    "            var ctx = this.$canvas[0].getContext(\"2d\");\n",
    "            var buffer = this.model.get('image_buffer').buffer\n",
    "            var arr = new Uint8ClampedArray(buffer);\n",
    "            var imdata = new ImageData(arr, canvas_width, canvas_height);\n",
    "            ctx.putImageData(imdata, 0, 0)\n",
    "            var rect = this.$canvas[0].getBoundingClientRect();\n",
    "            var local_x = Math.floor( p55_mouse_x - rect.left );\n",
    "            var local_y = Math.floor( p55_mouse_y - rect.top );\n",
    "            this.handle_mouse(local_x, local_y, p55_mouse_is_down);\n",
    "        },\n",
    "        \n",
    "        handle_mouse: function(x, y, is_down) {\n",
    "            this.model.set('mouseX', x);\n",
    "            this.model.set('mouseY', y);\n",
    "            this.model.set('mousePressed', is_down);\n",
    "            this.touch();\n",
    "        },\n",
    "        \n",
    "    });\n",
    "    \n",
    "    return {\n",
    "        P55CanvasView: P55CanvasView\n",
    "    };\n",
    "});"
   ]
  },
  {
   "cell_type": "markdown",
   "metadata": {
    "slideshow": {
     "slide_type": "slide"
    }
   },
   "source": [
    "### Try it out"
   ]
  },
  {
   "cell_type": "code",
   "execution_count": 5,
   "metadata": {
    "collapsed": false
   },
   "outputs": [],
   "source": [
    "import time\n",
    "import calendar\n",
    "import random\n",
    "import numpy as np\n",
    "\n",
    "def get_p55_play_observer(wrapper):\n",
    "    def play_observer(change):\n",
    "        backend_img = wrapper.backend_img\n",
    "        p55_widget = wrapper.p55_widget\n",
    "        value = change['new']\n",
    "        if value == 0:\n",
    "            wrapper.reset_widget();\n",
    "            backend_img = wrapper.backend_img\n",
    "        else:\n",
    "            wrapper.step_func(p55_widget)\n",
    "            if value % wrapper.redrawFreq == 0:\n",
    "                wrapper.render_func(p55_widget)\n",
    "            wrapper.draw_func(p55_widget)\n",
    "        p55_widget.image_buffer = backend_img.tobytes()\n",
    "    return play_observer\n",
    "\n",
    "def get_label_changer(wrapper):\n",
    "    def on_value_change(change):\n",
    "        wrapper.step_label.value = u\"{}\".format(change['new'])\n",
    "    return on_value_change\n",
    "\n",
    "def empty_function(wrapper):\n",
    "    pass\n",
    "\n",
    "class P55Wrapper():\n",
    "    def reset_widget(self):\n",
    "        if self.incSeedOnStop:\n",
    "            self.randomSeed = self.randomSeed + 1\n",
    "            if self.randomSeedWidget is not None:\n",
    "                self.randomSeedWidget.value = self.randomSeed\n",
    "        random.seed(self.randomSeed)\n",
    "        np.random.seed(self.randomSeed)\n",
    "        color = (0,0,0,255)\n",
    "        self.backend_img = Image.new('RGBA', [self.p55_widget.canvas_width, self.p55_widget.canvas_height], color=color)\n",
    "        self.p55_widget.drawContext = ImageDraw.Draw(self.backend_img)\n",
    "        self.setup_func(self.p55_widget)\n",
    "        \n",
    "    def __init__(self, width=320, height=320, setupfn=empty_function, drawfn=empty_function, stepfn=empty_function, renderfn=empty_function):\n",
    "        self.setup_func = setupfn\n",
    "        self.draw_func = drawfn\n",
    "        self.step_func = stepfn\n",
    "        self.render_func = renderfn\n",
    "        self.redrawFreq = 1\n",
    "        self.randomSeed = int(calendar.timegm(time.gmtime()))\n",
    "        self.incSeedOnStop = True\n",
    "        self.settings_pane = None\n",
    "        self.randomSeedWidget = None\n",
    "        \n",
    "        self.play = widgets.Play()\n",
    "        self.p55_widget = P55CanvasWidget()\n",
    "        self.p55_widget.canvas_width = width\n",
    "        self.p55_widget.canvas_height = height\n",
    "        self.p55_widget.value = 0\n",
    "        self.reset_widget();\n",
    "        self.step_label = widgets.Label(u\"0\", description='step');\n",
    "\n",
    "        play_observer = get_p55_play_observer(self)\n",
    "        self.p55_widget.observe(play_observer, names='value')\n",
    "        traitlets.link((self.play, 'value'), (self.p55_widget, 'value'))\n",
    "        label_observer = get_label_changer(self)\n",
    "        self.p55_widget.observe(label_observer, names='value')\n",
    "        \n",
    "        self.play_row = widgets.HBox([self.play, self.step_label])\n",
    "        self.display_pane = widgets.VBox([self.p55_widget, self.play_row])\n",
    "        self.widget = widgets.HBox([self.display_pane])\n",
    "    \n",
    "    def addSettingsPane(self, settings_pane, randomSeedWidget):\n",
    "        self.settings_pane = settings_pane\n",
    "        self.randomSeedWidget = randomSeedWidget\n",
    "        self.widget = widgets.HBox([self.display_pane, settings_pane])   \n",
    "        "
   ]
  },
  {
   "cell_type": "code",
   "execution_count": 6,
   "metadata": {
    "collapsed": false
   },
   "outputs": [
    {
     "data": {
      "application/vnd.jupyter.widget": "5e855bcd393846bb991b2f813b787665"
     },
     "metadata": {},
     "output_type": "display_data"
    }
   ],
   "source": [
    "def draw(self):\n",
    "    if self.mousePressed:\n",
    "        self.fill(0)\n",
    "    else:\n",
    "        self.fill(255)\n",
    "    self.ellipse(self.mouseX, self.mouseY, 80, 80)\n",
    "\n",
    "wrapper = P55Wrapper(width=320, height=320, drawfn=draw)\n",
    "display(wrapper.widget)"
   ]
  },
  {
   "cell_type": "code",
   "execution_count": 102,
   "metadata": {
    "collapsed": false
   },
   "outputs": [
    {
     "data": {
      "text/plain": [
       "(54, '#ff734b')"
      ]
     },
     "metadata": {},
     "output_type": "display_data"
    }
   ],
   "source": [
    "def wrapped_widgets(wrapper):\n",
    "    def settings_updated(radius, color):\n",
    "        if radius < 0:\n",
    "            radius = 0\n",
    "        wrapper.p55_widget.radius = radius\n",
    "        t = webcolors.html5_parse_legacy_color(color)\n",
    "        wrapper.p55_widget.color = (t[0], t[1], t[2], 255)\n",
    "        return radius, color\n",
    "    return settings_updated\n",
    "\n",
    "def draw(self):\n",
    "    self.fill(128)\n",
    "    if self.mousePressed:\n",
    "        self.fill(0)\n",
    "    else:\n",
    "        self.cur_fill = self.color\n",
    "    self.ellipse(self.mouseX, self.mouseY, self.radius, self.radius)\n",
    "\n",
    "wrapper = P55Wrapper(drawfn=draw)\n",
    "settings_callback = wrapped_widgets(wrapper)\n",
    "cp = widgets.ColorPicker()\n",
    "cp.value = \"white\"\n",
    "w = interactive(settings_callback, radius=80, color=cp)\n",
    "wrapper.addSettingsPane(w, None)\n",
    "wrapper.play.max = 1000\n",
    "display(wrapper.widget)\n"
   ]
  },
  {
   "cell_type": "code",
   "execution_count": 10,
   "metadata": {
    "collapsed": false
   },
   "outputs": [
    {
     "data": {
      "application/vnd.jupyter.widget": "d6e7164ff8c54957ab1aa0b146111b7f"
     },
     "metadata": {},
     "output_type": "display_data"
    }
   ],
   "source": [
    "def draw1(self):\n",
    "    if not self.mousePressed:\n",
    "        color = (255,0,0,255)\n",
    "    else:\n",
    "        color = (0,0,255,255)\n",
    "    self.cur_fill = color\n",
    "    self.line(0, 0, self.mouseX, self.mouseY)\n",
    "\n",
    "wrapper = P55Wrapper(draw1)\n",
    "display(wrapper.widget)    "
   ]
  },
  {
   "cell_type": "code",
   "execution_count": 7,
   "metadata": {
    "collapsed": true
   },
   "outputs": [],
   "source": [
    "BACK = (255,255,255,255)\n",
    "FRONT = (0, 0, 0, 255)\n",
    "LIGHT = (0, 100, 0, 255)\n",
    "CYAN = (0, 100, 100, 255)\n",
    "BLUE = (0, 0, 200, 255)\n",
    "RED = (128, 0, 0, 255)\n",
    "\n",
    "FRONTCOLORS = [FRONT, LIGHT, CYAN, BLUE, RED]"
   ]
  },
  {
   "cell_type": "code",
   "execution_count": 8,
   "metadata": {
    "collapsed": true
   },
   "outputs": [],
   "source": [
    "NMAX = 10**6\n",
    "SIZE = 200\n",
    "ONE = 1.5/SIZE\n",
    "LINEWIDTH = ONE*1.1\n",
    "\n",
    "INIT_NUM = 4\n",
    "\n",
    "STP = ONE*3\n",
    "\n",
    "ANGLE_STP = 0.5\n",
    "ANGLE_LOCAL_STP = 0.8"
   ]
  },
  {
   "cell_type": "code",
   "execution_count": 9,
   "metadata": {
    "collapsed": true
   },
   "outputs": [],
   "source": [
    "from modules.wind import Wind\n",
    "\n",
    "def setup_wind(self):\n",
    "    global ANGLE_STP, ANGLE_LOCAL_STP\n",
    "    self.wind = Wind(NMAX, SIZE, STP, ANGLE_STP, ANGLE_LOCAL_STP)\n",
    "    self.wind.rnd_seed(INIT_NUM)\n",
    "\n",
    "def step_wind(self):\n",
    "    res = self.wind.step()\n",
    "\n",
    "def render_wind(self):\n",
    "    self.fill(225)\n",
    "    self.cur_outline = self.cur_fill\n",
    "    self.rectangle(0,0,320,320)\n",
    "    self.fill(0)\n",
    "\n",
    "    xy = self.wind.xy\n",
    "    n = self.wind.n\n",
    "    r = self.wind.r\n",
    "\n",
    "    for i,x in enumerate(xy[:n,:]):\n",
    "        self.cur_fill = FRONTCOLORS[r[i]]\n",
    "        self.cur_outline = FRONTCOLORS[r[i]]\n",
    "        self.ellipse(int(320*x[0]), int(320*x[1]), 2, 2)\n",
    "\n",
    "    for i,p in enumerate(self.wind.p[:n]):\n",
    "        if p>-1:\n",
    "            self.cur_fill = FRONTCOLORS[r[i]]\n",
    "            self.cur_outline = FRONTCOLORS[r[i]]\n",
    "            source = 320 * xy[p,:].flatten()\n",
    "            dest = 320 * xy[i,:].flatten()\n",
    "            self.line(source[0], source[1], dest[0], dest[1])\n"
   ]
  },
  {
   "cell_type": "code",
   "execution_count": 92,
   "metadata": {
    "collapsed": false
   },
   "outputs": [
    {
     "data": {
      "application/vnd.jupyter.widget": "f21746111b2141958d7fbe01170c9b50"
     },
     "metadata": {},
     "output_type": "display_data"
    }
   ],
   "source": [
    "wrapper = P55Wrapper(setupfn=setup_wind, stepfn=step_wind, renderfn=render_wind)\n",
    "wrapper.play.max = 1000\n",
    "wrapper.redrawFreq = 5\n",
    "display(wrapper.widget)"
   ]
  },
  {
   "cell_type": "code",
   "execution_count": 10,
   "metadata": {
    "collapsed": false
   },
   "outputs": [],
   "source": [
    "def wrapped_wind_settings(wrapper):\n",
    "    def settings_updated(randomSeed, incSeed, drawFreq, ASTP, ALOCAL, color):\n",
    "        global FRONTCOLORS\n",
    "        global ANGLE_STP\n",
    "        global ANGLE_LOCAL_STP\n",
    "        wrapper.randomSeed = randomSeed\n",
    "        wrapper.incSeedOnStop = incSeed\n",
    "        wrapper.redrawFreq = drawFreq\n",
    "        ANGLE_STP = ASTP\n",
    "        ANGLE_LOCAL_STP = ALOCAL\n",
    "        t = webcolors.html5_parse_legacy_color(color)\n",
    "        FRONTCOLORS[0] = (t[0], t[1], t[2], 255)\n",
    "        return None\n",
    "    return settings_updated"
   ]
  },
  {
   "cell_type": "code",
   "execution_count": 11,
   "metadata": {
    "collapsed": false
   },
   "outputs": [],
   "source": [
    "wrapper = P55Wrapper(setupfn=setup_wind, stepfn=step_wind, renderfn=render_wind)\n",
    "settings_callback = wrapped_wind_settings(wrapper)\n",
    "cp = widgets.ColorPicker()\n",
    "seedWidget = widgets.IntText(wrapper.randomSeed)\n",
    "incSeedWidget = widgets.Checkbox(description='Inc Seed on Stop', value=wrapper.incSeedOnStop)\n",
    "rw = widgets.IntSlider(value=1,min=1,max=20)\n",
    "asw = widgets.FloatSlider(value=0.5,min=0,max=2)\n",
    "alsw = widgets.FloatSlider(value=0.8,min=0,max=2)\n",
    "w = interactive(settings_callback, randomSeed=seedWidget, incSeed=incSeedWidget, drawFreq=rw, ASTP=asw, ALOCAL=alsw, color=cp)\n",
    "wrapper.addSettingsPane(w, seedWidget)\n",
    "wrapper.play.max = 1000\n",
    "wrapper.redrawFreq = 5\n",
    "display(wrapper.widget)\n"
   ]
  },
  {
   "cell_type": "code",
   "execution_count": null,
   "metadata": {
    "collapsed": true
   },
   "outputs": [],
   "source": []
  }
 ],
 "metadata": {
  "kernelspec": {
   "display_name": "Python 3",
   "language": "python",
   "name": "python3"
  },
  "language_info": {
   "codemirror_mode": {
    "name": "ipython",
    "version": 3
   },
   "file_extension": ".py",
   "mimetype": "text/x-python",
   "name": "python",
   "nbconvert_exporter": "python",
   "pygments_lexer": "ipython3",
   "version": "3.5.2"
  },
  "widgets": {
   "state": {
    "3d1e90a6ff1945bebc98c3671bfb82cc": {
     "views": [
      {
       "cell_index": 18
      }
     ]
    },
    "5e855bcd393846bb991b2f813b787665": {
     "views": [
      {
       "cell_index": 10
      }
     ]
    }
   },
   "version": "2.0.0-dev"
  }
 },
 "nbformat": 4,
 "nbformat_minor": 1
}
